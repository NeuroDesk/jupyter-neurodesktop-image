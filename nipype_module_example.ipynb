{
 "cells": [
  {
   "cell_type": "markdown",
   "id": "52d527e8-c988-4f60-9d12-cc39e248ad11",
   "metadata": {},
   "source": [
    "# Demonstrating the module system in Python and Nipype"
   ]
  },
  {
   "cell_type": "markdown",
   "id": "f66859e8-2ce5-4a49-b93d-1b0e3b5de5c1",
   "metadata": {},
   "source": [
    "## First, let's demonstrate that bet, a tool from the fsl toolkit, is not on our path"
   ]
  },
  {
   "cell_type": "markdown",
   "id": "35a53844-066e-4384-83b5-c8328622adea",
   "metadata": {},
   "source": [
    "# Now we can use lmod to load fsl in a specific version"
   ]
  },
  {
   "cell_type": "code",
   "execution_count": 1,
   "id": "00345266-eb39-40c9-a29a-32cda10ebba3",
   "metadata": {},
   "outputs": [
    {
     "data": {
      "text/plain": [
       "['fsl/6.0.5.1']"
      ]
     },
     "execution_count": 1,
     "metadata": {},
     "output_type": "execute_result"
    }
   ],
   "source": [
    "import lmod\n",
    "await lmod.purge(force=True)\n",
    "await lmod.load('fsl/6.0.5.1')\n",
    "await lmod.list()"
   ]
  },
  {
   "cell_type": "code",
   "execution_count": 6,
   "id": "2e447e8b-a6fd-4365-9da3-3de21a4654b2",
   "metadata": {},
   "outputs": [
    {
     "name": "stdout",
     "output_type": "stream",
     "text": [
      "$/home/jovyan/example-notebooks/data/ICBM_UCLA_1644_MR_SAG_MPRAGE_8_CHANNEL_br_raw_20090115105536096_1_S61873_I133812.nii\n",
      "running BET\n",
      "\u001b[33mWARNING:\u001b[0m underlay of /etc/localtime required more than 50 (90) bind mounts\n",
      "\n",
      "Usage:    bet <input> <output> [options]\n",
      "\n",
      "Main bet2 options:\n",
      "  -o          generate brain surface outline overlaid onto original image\n",
      "  -m          generate binary brain mask\n",
      "  -s          generate approximate skull image\n",
      "  -n          don't generate segmented brain image output\n",
      "  -f <f>      fractional intensity threshold (0->1); default=0.5; smaller values give larger brain outline estimates\n",
      "  -g <g>      vertical gradient in fractional intensity threshold (-1->1); default=0; positive values give larger brain outline at bottom, smaller at top\n",
      "  -r <r>      head radius (mm not voxels); initial surface sphere is set to half of this\n",
      "  -c <x y z>  centre-of-gravity (voxels not mm) of initial mesh surface.\n",
      "  -t          apply thresholding to segmented brain image and mask\n",
      "  -e          generates brain surface as mesh in .vtk format\n",
      "\n",
      "Variations on default bet2 functionality (mutually exclusive options):\n",
      "  (default)   just run bet2\n",
      "  -R          robust brain centre estimation (iterates BET several times)\n",
      "  -S          eye & optic nerve cleanup (can be useful in SIENA - disables -o option)\n",
      "  -B          bias field & neck cleanup (can be useful in SIENA)\n",
      "  -Z          improve BET if FOV is very small in Z (by temporarily padding end slices)\n",
      "  -F          apply to 4D FMRI data (uses -f 0.3 and dilates brain mask slightly)\n",
      "  -A          run bet2 and then betsurf to get additional skull and scalp surfaces (includes registrations)\n",
      "  -A2 <T2>    as with -A, when also feeding in non-brain-extracted T2 (includes registrations)\n",
      "\n",
      "Miscellaneous options:\n",
      "  -v          verbose (switch on diagnostic messages)\n",
      "  -h          display this help, then exits\n",
      "  -d          debug (don't delete temporary intermediate images)\n",
      "\n",
      "running FAST\n",
      "\u001b[33mWARNING:\u001b[0m underlay of /etc/localtime required more than 50 (90) bind mounts\n",
      "Image Exception : #63 :: No image files match: _brain\n",
      "Image Exception : #22 :: Failed to read volume _brain.nii.gz\n",
      "Error : No image files match: _brain\n",
      "terminate called after throwing an instance of 'std::runtime_error'\n",
      "  what():  Failed to read volume _brain.nii.gz\n",
      "Error : No image files match: _brain\n",
      "/cvmfs/neurodesk.ardc.edu.au/containers/fsl_6.0.5.1_20221016/fast: line 3:  1167 Aborted                 (core dumped) singularity exec $neurodesk_singularity_opts --pwd $PWD /cvmfs/neurodesk.ardc.edu.au/containers/fsl_6.0.5.1_20221016/fsl_6.0.5.1_20221016.simg fast \"$@\"\n",
      "$/home/jovyan/example-notebooks/data/ICBM_UCLA_1644_MR_SAG_MPRAGE_8_CHANNEL_br_raw_20090115105513238_1_S61873_I133813.nii\n",
      "running BET\n",
      "\u001b[33mWARNING:\u001b[0m underlay of /etc/localtime required more than 50 (90) bind mounts\n",
      "\n",
      "Usage:    bet <input> <output> [options]\n",
      "\n",
      "Main bet2 options:\n",
      "  -o          generate brain surface outline overlaid onto original image\n",
      "  -m          generate binary brain mask\n",
      "  -s          generate approximate skull image\n",
      "  -n          don't generate segmented brain image output\n",
      "  -f <f>      fractional intensity threshold (0->1); default=0.5; smaller values give larger brain outline estimates\n",
      "  -g <g>      vertical gradient in fractional intensity threshold (-1->1); default=0; positive values give larger brain outline at bottom, smaller at top\n",
      "  -r <r>      head radius (mm not voxels); initial surface sphere is set to half of this\n",
      "  -c <x y z>  centre-of-gravity (voxels not mm) of initial mesh surface.\n",
      "  -t          apply thresholding to segmented brain image and mask\n",
      "  -e          generates brain surface as mesh in .vtk format\n",
      "\n",
      "Variations on default bet2 functionality (mutually exclusive options):\n",
      "  (default)   just run bet2\n",
      "  -R          robust brain centre estimation (iterates BET several times)\n",
      "  -S          eye & optic nerve cleanup (can be useful in SIENA - disables -o option)\n",
      "  -B          bias field & neck cleanup (can be useful in SIENA)\n",
      "  -Z          improve BET if FOV is very small in Z (by temporarily padding end slices)\n",
      "  -F          apply to 4D FMRI data (uses -f 0.3 and dilates brain mask slightly)\n",
      "  -A          run bet2 and then betsurf to get additional skull and scalp surfaces (includes registrations)\n",
      "  -A2 <T2>    as with -A, when also feeding in non-brain-extracted T2 (includes registrations)\n",
      "\n",
      "Miscellaneous options:\n",
      "  -v          verbose (switch on diagnostic messages)\n",
      "  -h          display this help, then exits\n",
      "  -d          debug (don't delete temporary intermediate images)\n",
      "\n",
      "running FAST\n",
      "\u001b[33mWARNING:\u001b[0m underlay of /etc/localtime required more than 50 (90) bind mounts\n",
      "Image Exception : #63 :: No image files match: _brain\n",
      "Image Exception : #22 :: Failed to read volume _brain.nii.gz\n",
      "Error : No image files match: _brain\n",
      "terminate called after throwing an instance of 'std::runtime_error'\n",
      "  what():  Failed to read volume _brain.nii.gz\n",
      "Error : No image files match: _brain\n",
      "/cvmfs/neurodesk.ardc.edu.au/containers/fsl_6.0.5.1_20221016/fast: line 3:  1250 Aborted                 (core dumped) singularity exec $neurodesk_singularity_opts --pwd $PWD /cvmfs/neurodesk.ardc.edu.au/containers/fsl_6.0.5.1_20221016/fsl_6.0.5.1_20221016.simg fast \"$@\"\n",
      "$/home/jovyan/example-notebooks/data/ICBM_UCLA_1111_MR_SAG_MPRAGE_8_CHANNEL_br_raw_20090115103234152_1_S61869_I133803.nii\n",
      "running BET\n",
      "\u001b[33mWARNING:\u001b[0m underlay of /etc/localtime required more than 50 (90) bind mounts\n",
      "\n",
      "Usage:    bet <input> <output> [options]\n",
      "\n",
      "Main bet2 options:\n",
      "  -o          generate brain surface outline overlaid onto original image\n",
      "  -m          generate binary brain mask\n",
      "  -s          generate approximate skull image\n",
      "  -n          don't generate segmented brain image output\n",
      "  -f <f>      fractional intensity threshold (0->1); default=0.5; smaller values give larger brain outline estimates\n",
      "  -g <g>      vertical gradient in fractional intensity threshold (-1->1); default=0; positive values give larger brain outline at bottom, smaller at top\n",
      "  -r <r>      head radius (mm not voxels); initial surface sphere is set to half of this\n",
      "  -c <x y z>  centre-of-gravity (voxels not mm) of initial mesh surface.\n",
      "  -t          apply thresholding to segmented brain image and mask\n",
      "  -e          generates brain surface as mesh in .vtk format\n",
      "\n",
      "Variations on default bet2 functionality (mutually exclusive options):\n",
      "  (default)   just run bet2\n",
      "  -R          robust brain centre estimation (iterates BET several times)\n",
      "  -S          eye & optic nerve cleanup (can be useful in SIENA - disables -o option)\n",
      "  -B          bias field & neck cleanup (can be useful in SIENA)\n",
      "  -Z          improve BET if FOV is very small in Z (by temporarily padding end slices)\n",
      "  -F          apply to 4D FMRI data (uses -f 0.3 and dilates brain mask slightly)\n",
      "  -A          run bet2 and then betsurf to get additional skull and scalp surfaces (includes registrations)\n",
      "  -A2 <T2>    as with -A, when also feeding in non-brain-extracted T2 (includes registrations)\n",
      "\n",
      "Miscellaneous options:\n",
      "  -v          verbose (switch on diagnostic messages)\n",
      "  -h          display this help, then exits\n",
      "  -d          debug (don't delete temporary intermediate images)\n",
      "\n",
      "running FAST\n",
      "\u001b[33mWARNING:\u001b[0m underlay of /etc/localtime required more than 50 (90) bind mounts\n",
      "Image Exception : #63 :: No image files match: _brain\n",
      "Image Exception : #22 :: Failed to read volume _brain.nii.gz\n",
      "Error : No image files match: _brain\n",
      "terminate called after throwing an instance of 'std::runtime_error'\n",
      "  what():  Failed to read volume _brain.nii.gz\n",
      "Error : No image files match: _brain\n",
      "/cvmfs/neurodesk.ardc.edu.au/containers/fsl_6.0.5.1_20221016/fast: line 3:  1331 Aborted                 (core dumped) singularity exec $neurodesk_singularity_opts --pwd $PWD /cvmfs/neurodesk.ardc.edu.au/containers/fsl_6.0.5.1_20221016/fsl_6.0.5.1_20221016.simg fast \"$@\"\n",
      "$/home/jovyan/example-notebooks/data/ICBM_MNI_0590_MR_GLOBAL_br_raw_20081210125914193_1_S60766_I130045.nii\n",
      "running BET\n",
      "\u001b[33mWARNING:\u001b[0m underlay of /etc/localtime required more than 50 (90) bind mounts\n",
      "\n",
      "Usage:    bet <input> <output> [options]\n",
      "\n",
      "Main bet2 options:\n",
      "  -o          generate brain surface outline overlaid onto original image\n",
      "  -m          generate binary brain mask\n",
      "  -s          generate approximate skull image\n",
      "  -n          don't generate segmented brain image output\n",
      "  -f <f>      fractional intensity threshold (0->1); default=0.5; smaller values give larger brain outline estimates\n",
      "  -g <g>      vertical gradient in fractional intensity threshold (-1->1); default=0; positive values give larger brain outline at bottom, smaller at top\n",
      "  -r <r>      head radius (mm not voxels); initial surface sphere is set to half of this\n",
      "  -c <x y z>  centre-of-gravity (voxels not mm) of initial mesh surface.\n",
      "  -t          apply thresholding to segmented brain image and mask\n",
      "  -e          generates brain surface as mesh in .vtk format\n",
      "\n",
      "Variations on default bet2 functionality (mutually exclusive options):\n",
      "  (default)   just run bet2\n",
      "  -R          robust brain centre estimation (iterates BET several times)\n",
      "  -S          eye & optic nerve cleanup (can be useful in SIENA - disables -o option)\n",
      "  -B          bias field & neck cleanup (can be useful in SIENA)\n",
      "  -Z          improve BET if FOV is very small in Z (by temporarily padding end slices)\n",
      "  -F          apply to 4D FMRI data (uses -f 0.3 and dilates brain mask slightly)\n",
      "  -A          run bet2 and then betsurf to get additional skull and scalp surfaces (includes registrations)\n",
      "  -A2 <T2>    as with -A, when also feeding in non-brain-extracted T2 (includes registrations)\n",
      "\n",
      "Miscellaneous options:\n",
      "  -v          verbose (switch on diagnostic messages)\n",
      "  -h          display this help, then exits\n",
      "  -d          debug (don't delete temporary intermediate images)\n",
      "\n",
      "running FAST\n",
      "\u001b[33mWARNING:\u001b[0m underlay of /etc/localtime required more than 50 (90) bind mounts\n",
      "Image Exception : #63 :: No image files match: _brain\n",
      "Image Exception : #22 :: Failed to read volume _brain.nii.gz\n",
      "Error : No image files match: _brain\n",
      "terminate called after throwing an instance of 'std::runtime_error'\n",
      "  what():  Failed to read volume _brain.nii.gz\n",
      "Error : No image files match: _brain\n",
      "/cvmfs/neurodesk.ardc.edu.au/containers/fsl_6.0.5.1_20221016/fast: line 3:  1414 Aborted                 (core dumped) singularity exec $neurodesk_singularity_opts --pwd $PWD /cvmfs/neurodesk.ardc.edu.au/containers/fsl_6.0.5.1_20221016/fsl_6.0.5.1_20221016.simg fast \"$@\"\n"
     ]
    }
   ],
   "source": [
    "import os, glob\n",
    "\n",
    "images = glob.glob(os.path.join(os.getcwd(), 'data', '*.nii'))\n",
    "\n",
    "for filename in images:\n",
    "    !echo ${filename}\n",
    "    !echo \"running BET\"\n",
    "    !bet ${filename} ${filename%.*}_brain\n",
    "    !echo \"running FAST\"\n",
    "    !fast ${filename%.*}_brain.nii.gz"
   ]
  },
  {
   "cell_type": "markdown",
   "id": "f09a1ba3-c01d-48df-8894-6c566907d6be",
   "metadata": {},
   "source": [
    "## Load afni as well"
   ]
  },
  {
   "cell_type": "markdown",
   "id": "11961012-a84e-40d5-a2df-086ede86d163",
   "metadata": {},
   "source": [
    "## download test data"
   ]
  },
  {
   "cell_type": "code",
   "execution_count": 5,
   "id": "b2513194-a19e-43e5-80a8-9dccc4d47bb9",
   "metadata": {},
   "outputs": [
    {
     "name": "stdout",
     "output_type": "stream",
     "text": [
      "--2022-12-04 01:46:35--  https://objectstorage.us-ashburn-1.oraclecloud.com/n/idrvm4tkz2a8/b/TOMCAT/o/TOMCAT_DIB/sub-01/ses-01_7T/anat/sub-01_ses-01_7T_T1w_defaced.nii.gz\n",
      "Resolving objectstorage.us-ashburn-1.oraclecloud.com (objectstorage.us-ashburn-1.oraclecloud.com)... 134.70.28.1, 134.70.24.1, 134.70.32.1\n",
      "Connecting to objectstorage.us-ashburn-1.oraclecloud.com (objectstorage.us-ashburn-1.oraclecloud.com)|134.70.28.1|:443... connected.\n",
      "HTTP request sent, awaiting response... 200 OK\n",
      "Length: 72682635 (69M) [application/octet-stream]\n",
      "Saving to: ‘/neurodesktop-storage/sub-01_ses-01_7T_T1w_defaced.nii.gz’\n",
      "\n",
      "/neurodesktop-stora 100%[===================>]  69.32M  20.2MB/s    in 3.4s    \n",
      "\n",
      "2022-12-04 01:46:39 (20.2 MB/s) - ‘/neurodesktop-storage/sub-01_ses-01_7T_T1w_defaced.nii.gz’ saved [72682635/72682635]\n",
      "\n"
     ]
    }
   ],
   "source": [
    "!wget https://objectstorage.us-ashburn-1.oraclecloud.com/n/idrvm4tkz2a8/b/TOMCAT/o/TOMCAT_DIB/sub-01/ses-01_7T/anat/sub-01_ses-01_7T_T1w_defaced.nii.gz -O /neurodesktop-storage/sub-01_ses-01_7T_T1w_defaced.nii.gz \n",
    "!gunzip /neurodesktop-storage/sub-01_ses-01_7T_T1w_defaced.nii.gz "
   ]
  },
  {
   "cell_type": "code",
   "execution_count": 6,
   "id": "37f99b61-55a6-4016-a697-bf065a083c7f",
   "metadata": {},
   "outputs": [
    {
     "name": "stdout",
     "output_type": "stream",
     "text": [
      "sub-01_ses-01_7T_T1w_defaced.nii\n"
     ]
    }
   ],
   "source": [
    "!ls /home/jovyan/neurodesktop-storage"
   ]
  },
  {
   "cell_type": "markdown",
   "id": "1cdb6e67-4927-4c2a-bc10-dfbfafe0b7af",
   "metadata": {},
   "source": [
    "## run nipype pipeline"
   ]
  },
  {
   "cell_type": "code",
   "execution_count": 7,
   "id": "9687c577-73df-4b05-8bb0-8fcfc0a220a9",
   "metadata": {},
   "outputs": [
    {
     "name": "stdout",
     "output_type": "stream",
     "text": [
      "221204-01:46:44,714 nipype.interface WARNING:\n",
      "\t FSLOUTPUTTYPE environment variable is not set. Setting FSLOUTPUTTYPE=NIFTI\n",
      "221204-01:46:54,492 nipype.interface INFO:\n",
      "\t stderr 2022-12-04T01:46:54.492130:++ 3dedge3: AFNI version=AFNI_22.3.06 (Nov 15 2022) [64-bit]\n",
      "221204-01:46:54,493 nipype.interface INFO:\n",
      "\t stderr 2022-12-04T01:46:54.493828:** AFNI converts NIFTI_datatype=4 (INT16) in file /home/jovyan/neurodesktop-storage/sub-01_ses-01_7T_T1w_defaced.nii to FLOAT32\n",
      "221204-01:46:54,494 nipype.interface INFO:\n",
      "\t stderr 2022-12-04T01:46:54.493828:     Warnings of this type will be muted for this session.\n",
      "221204-01:46:54,495 nipype.interface INFO:\n",
      "\t stderr 2022-12-04T01:46:54.493828:     Set AFNI_NIFTI_TYPE_WARN to YES to see them all, NO to see none.\n",
      "221204-01:46:54,497 nipype.interface INFO:\n",
      "\t stderr 2022-12-04T01:46:54.497256:\u001b[7m*+ WARNING:\u001b[0m   If you are performing spatial transformations on an oblique dset,\n",
      "221204-01:46:54,498 nipype.interface INFO:\n",
      "\t stderr 2022-12-04T01:46:54.497256:  such as /home/jovyan/neurodesktop-storage/sub-01_ses-01_7T_T1w_defaced.nii,\n",
      "221204-01:46:54,499 nipype.interface INFO:\n",
      "\t stderr 2022-12-04T01:46:54.497256:  or viewing/combining it with volumes of differing obliquity,\n",
      "221204-01:46:54,499 nipype.interface INFO:\n",
      "\t stderr 2022-12-04T01:46:54.497256:  you should consider running: \n",
      "221204-01:46:54,500 nipype.interface INFO:\n",
      "\t stderr 2022-12-04T01:46:54.497256:     3dWarp -deoblique \n",
      "221204-01:46:54,501 nipype.interface INFO:\n",
      "\t stderr 2022-12-04T01:46:54.497256:  on this and  other oblique datasets in the same session.\n",
      "221204-01:46:54,502 nipype.interface INFO:\n",
      "\t stderr 2022-12-04T01:46:54.497256: See 3dWarp -help for details.\n",
      "221204-01:46:54,503 nipype.interface INFO:\n",
      "\t stderr 2022-12-04T01:46:54.497256:++ Oblique dataset:/home/jovyan/neurodesktop-storage/sub-01_ses-01_7T_T1w_defaced.nii is 1.253358 degrees from plumb.\n"
     ]
    }
   ],
   "source": [
    "from nipype.interfaces import fsl\n",
    "from nipype.interfaces import afni\n",
    "\n",
    "btr = fsl.BET()\n",
    "btr.inputs.in_file = '/home/jovyan/neurodesktop-storage/sub-01_ses-01_7T_T1w_defaced.nii'\n",
    "btr.inputs.frac = 0.4\n",
    "btr.inputs.out_file = '/home/jovyan/neurodesktop-storage/sub-01_ses-01_7T_T1w_defaced_brain.nii'\n",
    "res = btr.run() \n",
    "\n",
    "edge3 = afni.Edge3()\n",
    "edge3.inputs.in_file = '/home/jovyan/neurodesktop-storage/sub-01_ses-01_7T_T1w_defaced.nii'\n",
    "edge3.inputs.out_file = '/home/jovyan/neurodesktop-storage/sub-01_ses-01_7T_T1w_defaced_edges.nii'\n",
    "edge3.inputs.datum = 'byte'\n",
    "res = edge3.run()"
   ]
  },
  {
   "cell_type": "code",
   "execution_count": 8,
   "id": "0bd12d00-3cf5-4f0e-b6f5-90007825d40c",
   "metadata": {},
   "outputs": [
    {
     "name": "stdout",
     "output_type": "stream",
     "text": [
      "sub-01_ses-01_7T_T1w_defaced.nii\n",
      "sub-01_ses-01_7T_T1w_defaced_brain.nii.gz\n",
      "sub-01_ses-01_7T_T1w_defaced_edges.nii\n"
     ]
    }
   ],
   "source": [
    "!ls /home/jovyan/neurodesktop-storage"
   ]
  }
 ],
 "metadata": {
  "kernelspec": {
   "display_name": "Python 3 (ipykernel)",
   "language": "python",
   "name": "python3"
  },
  "language_info": {
   "codemirror_mode": {
    "name": "ipython",
    "version": 3
   },
   "file_extension": ".py",
   "mimetype": "text/x-python",
   "name": "python",
   "nbconvert_exporter": "python",
   "pygments_lexer": "ipython3",
   "version": "3.10.4"
  }
 },
 "nbformat": 4,
 "nbformat_minor": 5
}
