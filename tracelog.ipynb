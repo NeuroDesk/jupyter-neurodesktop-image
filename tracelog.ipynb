{
 "cells": [
  {
   "attachments": {},
   "cell_type": "markdown",
   "metadata": {},
   "source": [
    "# Calculate the accumulated difference in calls to shared libraries\n",
    "\n",
    "In this Jupyter notebook, we will be analysing the number of calls to shared libraries during registration (FSL FLIRT) and subcortical segmentation (FSL FIRST).\n",
    "The pipeline will include a plot of accumulated difference.\n",
    "\n",
    "## Inputs\n",
    "- A logfile for calls to shared library by ltrace.\n",
    "- A log summary of all the calls\n",
    "\n",
    "## Outputs\n",
    "- Plot of accumulation of difference.\n",
    "\n",
    "## Notebook Workflow\n",
    "1. Iterate through each logfile and log summary.\n",
    "2. Compare the sequence in each logfile by called functions, keep count for the number of mismatch between two sequences.\n",
    "3. Generate plot"
   ]
  },
  {
   "cell_type": "code",
   "execution_count": null,
   "metadata": {},
   "outputs": [],
   "source": [
    "import numpy as np\n",
    "import matplotlib.pyplot as plt\n",
    "import os"
   ]
  },
  {
   "attachments": {},
   "cell_type": "markdown",
   "metadata": {},
   "source": [
    "## Specify directory of logfile and log summary\n",
    "### Replace the following empty strings with your paths to process data that you want to compare.\n",
    "\n",
    "\n",
    "| **Log file**           | **System 1**              | **System 2**              |\n",
    "|------------------------|---------------------------|---------------------------|\n",
    "| Log all recorded calls | PATH_TO_LOGFILE1 = ' '    | PATH_TO_LOGFILE2 = ' '    |\n",
    "| Log summary            | PATH_TO_LOGSUMMARY1 = ' ' | PATH_TO_LOGSUMMARY2 = ' ' |"
   ]
  },
  {
   "cell_type": "code",
   "execution_count": null,
   "metadata": {},
   "outputs": [],
   "source": [
    "PATH_TO_LOGFILE1 = ''\n",
    "PATH_TO_LOGSUMMARY1 = ''\n",
    "\n",
    "PATH_TO_LOGFILE2 = ''\n",
    "PATH_TO_LOGSUMMARY2 = ''"
   ]
  },
  {
   "attachments": {},
   "cell_type": "markdown",
   "metadata": {},
   "source": [
    "## Load trace log from System 1"
   ]
  },
  {
   "cell_type": "code",
   "execution_count": null,
   "metadata": {},
   "outputs": [],
   "source": [
    "with open(os.path.join(PATH_TO_LOGSUMMARY1)) as f:\n",
    "    lines_sum = f.readlines()\n",
    "\n",
    "uniquecalls=[]\n",
    "for ii, line in enumerate(lines_sum):\n",
    "    if ii>1:\n",
    "        uniquecalls.append(line.split(\" \")[-1].split(\"\\n\")[0])\n",
    "uniquecalls.append('__libc_start_main')\n",
    "uniquecalls.append('exit')\n",
    "uniquecalls.append('+++')\n",
    "\n",
    "with open(os.path.join(PATH_TO_LOGFILE1)) as f:\n",
    "    lines = f.readlines()\n",
    "\n",
    "calls = []\n",
    "for ii, line in enumerate(lines):\n",
    "    call = line.split(' ')[1].split('(')[0]\n",
    "    calls.append(uniquecalls.index(call))"
   ]
  },
  {
   "attachments": {},
   "cell_type": "markdown",
   "metadata": {},
   "source": [
    "## Load trace log from System 2"
   ]
  },
  {
   "cell_type": "code",
   "execution_count": null,
   "metadata": {},
   "outputs": [],
   "source": [
    "with open(os.path.join(PATH_TO_LOGSUMMARY2)) as f:\n",
    "    lines_sum = f.readlines()\n",
    "\n",
    "uniquecalls2=[]\n",
    "for ii, line in enumerate(lines_sum):\n",
    "    if ii>1:\n",
    "        uniquecalls2.append(line.split(\" \")[-1].split(\"\\n\")[0])\n",
    "uniquecalls2.append('+++')\n",
    "\n",
    "newindex = []\n",
    "for call in uniquecalls2:        \n",
    "    if np.isin(call, uniquecalls):    \n",
    "        newindex.append(uniquecalls.index(call))\n",
    "    else:\n",
    "        newindex.append(uniquecalls2.index(call)+1000)\n",
    "\n",
    "with open(os.path.join(PATH_TO_LOGFILE2)) as f:\n",
    "    lines = f.readlines()\n",
    "\n",
    "calls2 = []\n",
    "for ii, line in enumerate(lines):\n",
    "    call = line.split(' ')[1].split('(')[0]\n",
    "    calls2.append(newindex[uniquecalls2.index(call)])"
   ]
  },
  {
   "cell_type": "markdown",
   "metadata": {},
   "source": [
    "# COMPARE"
   ]
  },
  {
   "cell_type": "code",
   "execution_count": null,
   "metadata": {},
   "outputs": [],
   "source": [
    "calls_np = np.array(calls)\n",
    "calls2_np = np.array(calls2)\n",
    "\n",
    "# Exclude floorf \n",
    "calls_np_floorless = calls_np[calls_np != 0]\n",
    "calls2_np_floorless = calls2_np[calls2_np != 0]"
   ]
  },
  {
   "cell_type": "code",
   "execution_count": null,
   "metadata": {},
   "outputs": [],
   "source": [
    "diff = [3,4,7,8,9,10,12,16,27,39,40,44,50,55,56,57,60,65,74,75,78,80]\n",
    "calls_diff = calls_np[np.isin(calls_np, diff)]\n",
    "calls2_diff = calls2_np[np.isin(calls2_np, diff)]"
   ]
  },
  {
   "cell_type": "code",
   "execution_count": null,
   "metadata": {},
   "outputs": [],
   "source": [
    "a2=np.where(calls_np_floorless==2)[0]\n",
    "b2=np.where(calls2_np_floorless==2)[0]\n",
    "plt.plot(a2, np.cumsum(a2!=b2))\n",
    "\n",
    "a4=np.where(calls_np_floorless==4)[0]\n",
    "b4=np.where(calls2_np_floorless==4)[0]\n",
    "plt.plot(a4, np.cumsum(a4!=b4))"
   ]
  },
  {
   "cell_type": "code",
   "execution_count": null,
   "metadata": {},
   "outputs": [],
   "source": [
    "from matplotlib.ticker import ScalarFormatter\n",
    "fig = plt.figure()\n",
    "ax = fig.add_axes([0.15, 0.1, 0.75, 0.8])  \n",
    "linestyle = ['solid', 'dotted', 'dashed', 'dasheddotted','loosely dashed', 'loosely dotted', 'dasheddotdotted']\n",
    "linecolor = ['blue', 'crimson', 'green', 'plum']\n",
    "for func in range(1, len(uniquecalls)):\n",
    "    if func == 88:\n",
    "        continue\n",
    "    a2=np.where(calls_np_floorless==func)[0]\n",
    "    b2=np.where(calls2_np_floorless==func)[0]\n",
    "    if len(a2) > len(b2):\n",
    "        a2 = a2[:len(b2)]\n",
    "    else:\n",
    "        b2 = b2[:len(a2)]\n",
    "    if np.sum(np.cumsum(a2!=b2)) == 0:\n",
    "        continue\n",
    "    diff = np.cumsum(a2!=b2)\n",
    "    ax.plot(a2, diff, label='{}'.format(uniquecalls[func]).replace(\"__\",\"\"))\n",
    "ax.legend(loc='upper left')\n",
    "ax.set_xlabel('Calls')\n",
    "ax.set_ylabel('Cumulative difference')"
   ]
  },
  {
   "cell_type": "code",
   "execution_count": null,
   "metadata": {},
   "outputs": [],
   "source": [
    "from matplotlib.ticker import ScalarFormatter\n",
    "from matplotlib.lines import Line2D\n",
    "\n",
    "fig = plt.figure()\n",
    "ax = fig.add_axes([0.15, 0.1, 0.75, 0.8])  \n",
    "\n",
    "linestyle_tuple = [\n",
    "     ('loosely dotted',        (0, (1, 10))),\n",
    "     ('dotted',                (0, (1, 1))),\n",
    "     ('densely dotted',        (0, (1, 1))),\n",
    "\n",
    "     ('loosely dashed',        (0, (5, 10))),\n",
    "     ('dashed',                (0, (5, 5))),\n",
    "     ('densely dashed',        (0, (5, 1))),\n",
    "\n",
    "     ('loosely dashdotted',    (0, (3, 10, 1, 10))),\n",
    "     ('dashdotted',            (0, (3, 5, 1, 5))),\n",
    "     ('densely dashdotted',    (0, (3, 1, 1, 1))),\n",
    "\n",
    "     ('dashdotdotted',         (0, (3, 5, 1, 5, 1, 5))),\n",
    "     ('loosely dashdotdotted', (0, (3, 10, 1, 10, 1, 10))),\n",
    "     ('densely dashdotdotted', (0, (3, 1, 1, 1, 1, 1)))]\n",
    "\n",
    "linestyle = ['-', ':', '--', (0, (3, 5, 1, 5)),(0, (5, 10)), (0, (1, 10)), (0, (3, 5, 1, 5, 1, 5))]\n",
    "linecolor = ['blue', 'red', 'green', 'orange']\n",
    "for id, func in enumerate([8,12,39,44,80]):\n",
    "    a2=np.where(calls_np_floorless==func)[0]\n",
    "    b2=np.where(calls2_np_floorless==func)[0]\n",
    "    if len(a2) > len(b2):\n",
    "        a2 = a2[:len(b2)]\n",
    "    else:\n",
    "        b2 = b2[:len(a2)]\n",
    "    if np.sum(np.cumsum(a2!=b2)) == 0:\n",
    "        continue\n",
    "    diff = np.cumsum(a2!=b2)\n",
    "    diff[diff==0] = 0.001\n",
    "    ax.plot(a2, diff, label='{}'.format(uniquecalls[func]).replace(\"__\",\"\"), linestyle=linestyle[id], color=linecolor[0])\n",
    "\n",
    "for id, func in enumerate([3, 16, 55]):\n",
    "    a2=np.where(calls_np_floorless==func)[0]\n",
    "    b2=np.where(calls2_np_floorless==func)[0]\n",
    "    if len(a2) > len(b2):\n",
    "        a2 = a2[:len(b2)]\n",
    "    else:\n",
    "        b2 = b2[:len(a2)]\n",
    "    if np.sum(np.cumsum(a2!=b2)) == 0:\n",
    "        continue\n",
    "    diff = np.cumsum(a2!=b2)\n",
    "    diff[diff==0] = 0.001\n",
    "    ax.plot(a2, diff, label='{}'.format(uniquecalls[func]).replace(\"__\",\"\"), linestyle=linestyle[id], color=linecolor[1])\n",
    "\n",
    "for id, func in enumerate([4, 7, 9, 10, 27, 50, 75]):\n",
    "    a2=np.where(calls_np_floorless==func)[0]\n",
    "    b2=np.where(calls2_np_floorless==func)[0]\n",
    "    if len(a2) > len(b2):\n",
    "        a2 = a2[:len(b2)]\n",
    "    else:\n",
    "        b2 = b2[:len(a2)]\n",
    "    if np.sum(np.cumsum(a2!=b2)) == 0:\n",
    "        continue\n",
    "    diff = np.cumsum(a2!=b2)\n",
    "    diff[diff==0] = 0.001\n",
    "    ax.plot(a2, diff, label='{}'.format(uniquecalls[func]).replace(\"__\",\"\"), linestyle=linestyle[id], color=linecolor[2])\n",
    "\n",
    "for id, func in enumerate([40,57,56,60,65,74,78]):\n",
    "    a2=np.where(calls_np_floorless==func)[0]\n",
    "    b2=np.where(calls2_np_floorless==func)[0]\n",
    "    if len(a2) > len(b2):\n",
    "        a2 = a2[:len(b2)]\n",
    "    else:\n",
    "        b2 = b2[:len(a2)]\n",
    "    if np.sum(np.cumsum(a2!=b2)) == 0:\n",
    "        continue\n",
    "    diff = np.cumsum(a2!=b2)\n",
    "    diff[diff==0] = 0.001\n",
    "    ax.plot(a2, diff, label='{}'.format(uniquecalls[func]).replace(\"__\",\"\"), linestyle=linestyle[id], color=linecolor[3])        \n",
    "\n",
    "ax.legend(loc='upper left')\n",
    "ax.set_yscale('symlog')\n",
    "ax.set_xlabel('Calls')\n",
    "ax.set_ylabel('Cumulative difference')"
   ]
  }
 ],
 "metadata": {
  "kernelspec": {
   "display_name": "Python 3",
   "language": "python",
   "name": "python3"
  },
  "language_info": {
   "codemirror_mode": {
    "name": "ipython",
    "version": 3
   },
   "file_extension": ".py",
   "mimetype": "text/x-python",
   "name": "python",
   "nbconvert_exporter": "python",
   "pygments_lexer": "ipython3",
   "version": "3.8.10 (default, Nov 14 2022, 12:59:47) \n[GCC 9.4.0]"
  },
  "orig_nbformat": 4,
  "vscode": {
   "interpreter": {
    "hash": "916dbcbb3f70747c44a77c7bcd40155683ae19c65e1c03b4aa3499c5328201f1"
   }
  }
 },
 "nbformat": 4,
 "nbformat_minor": 2
}
