{
 "cells": [
  {
   "attachments": {},
   "cell_type": "markdown",
   "id": "35a53844-066e-4384-83b5-c8328622adea",
   "metadata": {},
   "source": [
    "## First, use lmod to load fsl in a specific version"
   ]
  },
  {
   "cell_type": "code",
   "execution_count": null,
   "id": "00345266-eb39-40c9-a29a-32cda10ebba3",
   "metadata": {},
   "outputs": [],
   "source": [
    "import lmod\n",
    "await lmod.purge(force=True)\n",
    "await lmod.load('fsl/6.0.5.1')\n",
    "await lmod.list()"
   ]
  },
  {
   "attachments": {},
   "cell_type": "markdown",
   "id": "efff23a5",
   "metadata": {},
   "source": [
    "## Then run the pipeline for cortical and subcortical segmentation"
   ]
  },
  {
   "cell_type": "code",
   "execution_count": null,
   "id": "46236ae7",
   "metadata": {},
   "outputs": [],
   "source": [
    "%%bash\n",
    "\n",
    "first_run=\n",
    "lm1=\"$(mktemp /tmp/lm1.$$.XXXX)\"\n",
    "lm2=\"$(mktemp /tmp/lm2.$$.XXXX)\"\n",
    "logf=\"final.log\"\n",
    "if [ -z \"$FSLDIR\" ]; then\n",
    "    FSLDIR=/opt/fsl-6.0.5.1\n",
    "fi\n",
    "\n",
    "declare -a niifile=($(find \"$PWD\" -type f -iname \"*.nii\"));\n",
    "for i in {1..2};\n",
    "do\n",
    "\tfor filename in \"${niifile[@]}\";\n",
    "\t\tdo \n",
    "\t\t \n",
    "  \t\t\techo ${filename}\n",
    "\t\t\techo \"running FIRST\"\n",
    "\t\t\timage=$(basename ${filename%.*})\n",
    "\t\t\trun_first_all -i ${filename} -o ${filename%.*}\n",
    "\t\t\tdeclare -a files=(${filename%.*}.logs/*.e*);\n",
    "\t\t\tfor f in ${files[@]};\n",
    "\t\t\tdo\n",
    "\t\t\t\tif [ -s $f ]; then\n",
    "\t\t\t\t\techo $f\n",
    "\t\t\t\t\tfind . -type f -name ${image}* -exec rm -fv {} +\n",
    "\t\t\t\t\t#echo ${image}\n",
    "\t\t\t\t\tbreak\n",
    "\t\t\t\tfi\t\n",
    "\t\t\tdone\t\n",
    "\n",
    "\t\tdone\n",
    "\n",
    "\tfor filename in \"${niifile[@]}\";\n",
    "\t\tdo \n",
    "\t\t\techo ${filename}\n",
    "\t\t\techo \"running BET\"\n",
    "\t\t\tbet ${filename}.nii ${filename%.*}_brain\n",
    "\t\t\techo \"running FAST\"\n",
    "\t\t\tfast ${filename%.*}_brain.nii.gz\t\n",
    "\t\tdone\n",
    "\t\n",
    "\tfind . -type f -name '*brain.nii.gz' -name 'brain_seg.nii.gz' -name '*all_fast_firstseg.nii.gz' -name '*to_std_sub.nii.gz' -exec md5sum {} > $lm1 \\;\n",
    "\tif [ -z \"$first_run\" ]; then\n",
    "        cp -a $lm1 $lm2\n",
    "        first_run=1\n",
    "    else\n",
    "        first_run=2\n",
    "    fi\n",
    "\n",
    "    # test ! to invert usual exit code\n",
    "    if ! diff $lm2 $lm1; then\n",
    "        echo -e \"$(date +\"%F %R\")\\tChange detected:\\t$1\" | tee -a \"$logf\"\n",
    "    else\n",
    "        echo \"same\" & echo \"$(md5sum $lm1)\"\n",
    "    fi\t\n",
    "    \t\n",
    "    mv $lm1 $lm2\n",
    "    echo $first_run\n",
    "\tif [ $first_run == 1 ]; then\n",
    "        find . ! -name '*.nii' ! -name '*.ipynb' -type f -exec rm -f {} +\n",
    "    fi\n",
    "done\n",
    "\n",
    "for filename in \"${niifile[@]}\";\n",
    "\tdo \n",
    "\techo ${filename}\n",
    "\tflirt -in  ${filename%.*}_all_fast_firstseg.nii.gz -ref ${FSLDIR}/data/standard/MNI152_T1_1mm.nii.gz -applyxfm -init  ${filename%.*}_to_std_sub.mat -out  ${filename%.*}_all_fast_firstseg_mni.nii.gz -interp nearestneighbour\n",
    "\tdone\n",
    "\n",
    "echo \"All done\""
   ]
  }
 ],
 "metadata": {
  "kernelspec": {
   "display_name": "Python 3",
   "language": "python",
   "name": "python3"
  },
  "language_info": {
   "codemirror_mode": {
    "name": "ipython",
    "version": 3
   },
   "file_extension": ".py",
   "mimetype": "text/x-python",
   "name": "python",
   "nbconvert_exporter": "python",
   "pygments_lexer": "ipython3",
   "version": "3.8.10 (default, Nov 14 2022, 12:59:47) \n[GCC 9.4.0]"
  },
  "vscode": {
   "interpreter": {
    "hash": "916dbcbb3f70747c44a77c7bcd40155683ae19c65e1c03b4aa3499c5328201f1"
   }
  }
 },
 "nbformat": 4,
 "nbformat_minor": 5
}
